{
 "cells": [
  {
   "cell_type": "markdown",
   "metadata": {},
   "source": [
    "<img>\n",
    "<html>\n",
    "  <head>\n",
    "  </head>\n",
    "\n",
    "  <body>\n",
    "    <img src=\"image/Houseprice.jpg.jpg\">\n",
    "  </body>\n",
    "</html>"
   ]
  },
  {
   "cell_type": "markdown",
   "metadata": {},
   "source": [
    "# **About Dataset**\n",
    "## Dataset Description:\n",
    "The dataset contains information about properties. Each property has a unique property ID and is associated with a location ID based on the subcategory of the city. The dataset includes the following attributes:\n",
    "\n",
    "- Property ID: Unique identifier for each property.\n",
    "- Location ID: Unique identifier for each location within a city.\n",
    "- Page URL: The URL of the webpage where the property was published.\n",
    "- Property Type: Categorization of the property into six types: House, FarmHouse, Upper Portion, Lower Portion, Flat, or Room.\n",
    "- Price: The price of the property, which is the dependent feature in this dataset.\n",
    "- City: The city where the property is located. The dataset includes five cities: Lahore, Karachi, Faisalabad, Rawalpindi, and Islamabad.\n",
    "- Province: The state or province where the city is located.\n",
    "- Location: Different types of locations within each city.\n",
    "- Latitude and Longitude: Geographic coordinates of the cities.\n",
    "## Steps Involved in the Analysis:\n",
    "\n",
    "**Statistical Analysis:**\n",
    "\n",
    "- Data Types: Determine the data types of the attributes.\n",
    "- Level of Measurement: Identify the level of measurement for each attribute.\n",
    "- Summary Statistics: Calculate mean, standard deviation, minimum, and maximum values for numerical attributes.\n",
    "Data Cleaning:\n",
    "\n",
    "- Filling Null Values: Handle missing values in the dataset.\n",
    "- Duplicate Values: Remove duplicate records, if any.\n",
    "- Correcting Data Types: Ensure the correct data types for each attribute.\n",
    "- Outliers Detection: Identify and handle outliers in the data.\n",
    "- Exploratory Data Analysis (EDA):\n",
    "\n",
    "Visualization:\n",
    "- Use libraries such as Seaborn, Matplotlib, and Plotly to visualize the data and gain insights.\n",
    "\n",
    "Model Building:\n",
    "- Libraries: Utilize libraries like Sklearn and pickle.\n",
    "- List of Models: Build models using Linear Regression, Decision Tree, Random Forest, K-Nearest Neighbors (KNN), XG Boost, Gradient Boost, and Ada Boost.\n",
    "- Model Saving: Save the selected model into a pickle file for future use.\n",
    "I hope this captures the essence of the provided information. Let me know if you need any further assistance!"
   ]
  },
  {
   "cell_type": "markdown",
   "metadata": {},
   "source": [
    "---\n",
    "- About the Author : Sajjad Ali Shah\n",
    "- Contact: [Linkedin](www.linkedin.com/in/sajjad-ali-shah-120341305)\n",
    "\n",
    "- Date : 11/09/2024\n",
    "- Dataset: [Link](https://www.kaggle.com/datasets/jillanisofttech/pakistan-house-price-dataset?select=zameen-updated.csv)\n",
    "---"
   ]
  },
  {
   "cell_type": "code",
   "execution_count": 85,
   "metadata": {},
   "outputs": [],
   "source": [
    "#import the libraries\n",
    "import pandas as pd\n",
    "import numpy as np\n",
    "import matplotlib.pyplot as plt\n",
    "import seaborn as sns\n",
    "import plotly as px\n",
    "import warnings\n",
    "warnings.filterwarnings(\"ignore\")\n"
   ]
  },
  {
   "cell_type": "markdown",
   "metadata": {},
   "source": [
    "Load the Dataset"
   ]
  },
  {
   "cell_type": "code",
   "execution_count": 86,
   "metadata": {},
   "outputs": [],
   "source": [
    "#Load dataset through pandas\n",
    "df=pd.read_csv(\"zameen-updated.csv\")"
   ]
  },
  {
   "cell_type": "code",
   "execution_count": 87,
   "metadata": {},
   "outputs": [
    {
     "data": {
      "text/html": [
       "<div>\n",
       "<style scoped>\n",
       "    .dataframe tbody tr th:only-of-type {\n",
       "        vertical-align: middle;\n",
       "    }\n",
       "\n",
       "    .dataframe tbody tr th {\n",
       "        vertical-align: top;\n",
       "    }\n",
       "\n",
       "    .dataframe thead th {\n",
       "        text-align: right;\n",
       "    }\n",
       "</style>\n",
       "<table border=\"1\" class=\"dataframe\">\n",
       "  <thead>\n",
       "    <tr style=\"text-align: right;\">\n",
       "      <th></th>\n",
       "      <th>property_id</th>\n",
       "      <th>location_id</th>\n",
       "      <th>page_url</th>\n",
       "      <th>property_type</th>\n",
       "      <th>price</th>\n",
       "      <th>location</th>\n",
       "      <th>city</th>\n",
       "      <th>province_name</th>\n",
       "      <th>latitude</th>\n",
       "      <th>longitude</th>\n",
       "      <th>baths</th>\n",
       "      <th>area</th>\n",
       "      <th>purpose</th>\n",
       "      <th>bedrooms</th>\n",
       "      <th>date_added</th>\n",
       "      <th>agency</th>\n",
       "      <th>agent</th>\n",
       "      <th>Area Type</th>\n",
       "      <th>Area Size</th>\n",
       "      <th>Area Category</th>\n",
       "    </tr>\n",
       "  </thead>\n",
       "  <tbody>\n",
       "    <tr>\n",
       "      <th>0</th>\n",
       "      <td>237062</td>\n",
       "      <td>3325</td>\n",
       "      <td>https://www.zameen.com/Property/g_10_g_10_2_gr...</td>\n",
       "      <td>Flat</td>\n",
       "      <td>10000000</td>\n",
       "      <td>G-10</td>\n",
       "      <td>Islamabad</td>\n",
       "      <td>Islamabad Capital</td>\n",
       "      <td>33.679890</td>\n",
       "      <td>73.012640</td>\n",
       "      <td>2</td>\n",
       "      <td>4 Marla</td>\n",
       "      <td>For Sale</td>\n",
       "      <td>2</td>\n",
       "      <td>02-04-2019</td>\n",
       "      <td>NaN</td>\n",
       "      <td>NaN</td>\n",
       "      <td>Marla</td>\n",
       "      <td>4.0</td>\n",
       "      <td>0-5 Marla</td>\n",
       "    </tr>\n",
       "    <tr>\n",
       "      <th>1</th>\n",
       "      <td>346905</td>\n",
       "      <td>3236</td>\n",
       "      <td>https://www.zameen.com/Property/e_11_2_service...</td>\n",
       "      <td>Flat</td>\n",
       "      <td>6900000</td>\n",
       "      <td>E-11</td>\n",
       "      <td>Islamabad</td>\n",
       "      <td>Islamabad Capital</td>\n",
       "      <td>33.700993</td>\n",
       "      <td>72.971492</td>\n",
       "      <td>3</td>\n",
       "      <td>5.6 Marla</td>\n",
       "      <td>For Sale</td>\n",
       "      <td>3</td>\n",
       "      <td>05-04-2019</td>\n",
       "      <td>NaN</td>\n",
       "      <td>NaN</td>\n",
       "      <td>Marla</td>\n",
       "      <td>5.6</td>\n",
       "      <td>5-10 Marla</td>\n",
       "    </tr>\n",
       "    <tr>\n",
       "      <th>2</th>\n",
       "      <td>386513</td>\n",
       "      <td>764</td>\n",
       "      <td>https://www.zameen.com/Property/islamabad_g_15...</td>\n",
       "      <td>House</td>\n",
       "      <td>16500000</td>\n",
       "      <td>G-15</td>\n",
       "      <td>Islamabad</td>\n",
       "      <td>Islamabad Capital</td>\n",
       "      <td>33.631486</td>\n",
       "      <td>72.926559</td>\n",
       "      <td>6</td>\n",
       "      <td>8 Marla</td>\n",
       "      <td>For Sale</td>\n",
       "      <td>5</td>\n",
       "      <td>07-17-2019</td>\n",
       "      <td>NaN</td>\n",
       "      <td>NaN</td>\n",
       "      <td>Marla</td>\n",
       "      <td>8.0</td>\n",
       "      <td>5-10 Marla</td>\n",
       "    </tr>\n",
       "    <tr>\n",
       "      <th>3</th>\n",
       "      <td>656161</td>\n",
       "      <td>340</td>\n",
       "      <td>https://www.zameen.com/Property/islamabad_bani...</td>\n",
       "      <td>House</td>\n",
       "      <td>43500000</td>\n",
       "      <td>Bani Gala</td>\n",
       "      <td>Islamabad</td>\n",
       "      <td>Islamabad Capital</td>\n",
       "      <td>33.707573</td>\n",
       "      <td>73.151199</td>\n",
       "      <td>4</td>\n",
       "      <td>2 Kanal</td>\n",
       "      <td>For Sale</td>\n",
       "      <td>4</td>\n",
       "      <td>04-05-2019</td>\n",
       "      <td>NaN</td>\n",
       "      <td>NaN</td>\n",
       "      <td>Kanal</td>\n",
       "      <td>2.0</td>\n",
       "      <td>1-5 Kanal</td>\n",
       "    </tr>\n",
       "    <tr>\n",
       "      <th>4</th>\n",
       "      <td>841645</td>\n",
       "      <td>3226</td>\n",
       "      <td>https://www.zameen.com/Property/dha_valley_dha...</td>\n",
       "      <td>House</td>\n",
       "      <td>7000000</td>\n",
       "      <td>DHA Defence</td>\n",
       "      <td>Islamabad</td>\n",
       "      <td>Islamabad Capital</td>\n",
       "      <td>33.492591</td>\n",
       "      <td>73.301339</td>\n",
       "      <td>3</td>\n",
       "      <td>8 Marla</td>\n",
       "      <td>For Sale</td>\n",
       "      <td>3</td>\n",
       "      <td>07-10-2019</td>\n",
       "      <td>Easy Property</td>\n",
       "      <td>Muhammad Junaid Ceo Muhammad Shahid Director</td>\n",
       "      <td>Marla</td>\n",
       "      <td>8.0</td>\n",
       "      <td>5-10 Marla</td>\n",
       "    </tr>\n",
       "  </tbody>\n",
       "</table>\n",
       "</div>"
      ],
      "text/plain": [
       "   property_id  location_id  \\\n",
       "0       237062         3325   \n",
       "1       346905         3236   \n",
       "2       386513          764   \n",
       "3       656161          340   \n",
       "4       841645         3226   \n",
       "\n",
       "                                            page_url property_type     price  \\\n",
       "0  https://www.zameen.com/Property/g_10_g_10_2_gr...          Flat  10000000   \n",
       "1  https://www.zameen.com/Property/e_11_2_service...          Flat   6900000   \n",
       "2  https://www.zameen.com/Property/islamabad_g_15...         House  16500000   \n",
       "3  https://www.zameen.com/Property/islamabad_bani...         House  43500000   \n",
       "4  https://www.zameen.com/Property/dha_valley_dha...         House   7000000   \n",
       "\n",
       "      location       city      province_name   latitude  longitude  baths  \\\n",
       "0         G-10  Islamabad  Islamabad Capital  33.679890  73.012640      2   \n",
       "1         E-11  Islamabad  Islamabad Capital  33.700993  72.971492      3   \n",
       "2         G-15  Islamabad  Islamabad Capital  33.631486  72.926559      6   \n",
       "3    Bani Gala  Islamabad  Islamabad Capital  33.707573  73.151199      4   \n",
       "4  DHA Defence  Islamabad  Islamabad Capital  33.492591  73.301339      3   \n",
       "\n",
       "        area   purpose  bedrooms  date_added         agency  \\\n",
       "0    4 Marla  For Sale         2  02-04-2019            NaN   \n",
       "1  5.6 Marla  For Sale         3  05-04-2019            NaN   \n",
       "2    8 Marla  For Sale         5  07-17-2019            NaN   \n",
       "3    2 Kanal  For Sale         4  04-05-2019            NaN   \n",
       "4    8 Marla  For Sale         3  07-10-2019  Easy Property   \n",
       "\n",
       "                                          agent Area Type  Area Size  \\\n",
       "0                                           NaN     Marla        4.0   \n",
       "1                                           NaN     Marla        5.6   \n",
       "2                                           NaN     Marla        8.0   \n",
       "3                                           NaN     Kanal        2.0   \n",
       "4  Muhammad Junaid Ceo Muhammad Shahid Director     Marla        8.0   \n",
       "\n",
       "  Area Category  \n",
       "0     0-5 Marla  \n",
       "1    5-10 Marla  \n",
       "2    5-10 Marla  \n",
       "3     1-5 Kanal  \n",
       "4    5-10 Marla  "
      ]
     },
     "execution_count": 87,
     "metadata": {},
     "output_type": "execute_result"
    }
   ],
   "source": [
    "#load first 5 dataset \n",
    "df.head()"
   ]
  },
  {
   "cell_type": "markdown",
   "metadata": {},
   "source": [
    "---\n",
    "<p><span style=\"color: orange; font-size: 350%; font-weight: bold;\">Explore Data</span></p>"
   ]
  },
  {
   "cell_type": "code",
   "execution_count": 99,
   "metadata": {},
   "outputs": [
    {
     "name": "stdout",
     "output_type": "stream",
     "text": [
      "<class 'pandas.core.frame.DataFrame'>\n",
      "RangeIndex: 168446 entries, 0 to 168445\n",
      "Data columns (total 20 columns):\n",
      " #   Column         Non-Null Count   Dtype  \n",
      "---  ------         --------------   -----  \n",
      " 0   property_id    168446 non-null  int64  \n",
      " 1   location_id    168446 non-null  int64  \n",
      " 2   page_url       168446 non-null  object \n",
      " 3   property_type  168446 non-null  object \n",
      " 4   price          168446 non-null  int64  \n",
      " 5   location       168446 non-null  object \n",
      " 6   city           168446 non-null  object \n",
      " 7   province_name  168446 non-null  object \n",
      " 8   latitude       168446 non-null  float64\n",
      " 9   longitude      168446 non-null  float64\n",
      " 10  baths          168446 non-null  int64  \n",
      " 11  area           168446 non-null  object \n",
      " 12  purpose        168446 non-null  object \n",
      " 13  bedrooms       168446 non-null  int64  \n",
      " 14  date_added     168446 non-null  object \n",
      " 15  agency         124375 non-null  object \n",
      " 16  agent          124374 non-null  object \n",
      " 17  Area Type      168446 non-null  object \n",
      " 18  Area Size      168446 non-null  float64\n",
      " 19  Area Category  168446 non-null  object \n",
      "dtypes: float64(3), int64(5), object(12)\n",
      "memory usage: 25.7+ MB\n"
     ]
    }
   ],
   "source": [
    "df.info()"
   ]
  },
  {
   "cell_type": "code",
   "execution_count": 91,
   "metadata": {},
   "outputs": [
    {
     "name": "stdout",
     "output_type": "stream",
     "text": [
      "The number of Rows in a dataset is 168446\n",
      "The number of columns in a dataset is 20\n"
     ]
    }
   ],
   "source": [
    "#shape of the dataset\n",
    "print(f\"The number of Rows in a dataset is {df.shape[0]}\")\n",
    "print(f\"The number of columns in a dataset is {df.shape[1]}\")"
   ]
  },
  {
   "cell_type": "code",
   "execution_count": 114,
   "metadata": {},
   "outputs": [
    {
     "data": {
      "image/png": "[encoded data removed]",
      "text/plain": [
       "<Figure size 640x480 with 1 Axes>"
      ]
     },
     "metadata": {},
     "output_type": "display_data"
    }
   ],
   "source": [
    "# lets explore the city column\n",
    "fig = sns.countplot(x=\"city\", data=df, palette=\"Set1\")\n",
    "plt.xticks(rotation=0)\n",
    "plt.xlabel(\"city\")\n",
    "plt.ylabel(\"Count\")\n",
    "plt.title(\"City Counts\")\n",
    "plt.show()"
   ]
  },
  {
   "cell_type": "code",
   "execution_count": 105,
   "metadata": {},
   "outputs": [
    {
     "data": {
      "text/plain": [
       "city        location                price   \n",
       "Karachi     Gulistan-e-Jauhar       9500000     416\n",
       "Rawalpindi  Bahria Town Rawalpindi  45000       352\n",
       "Karachi     Bahria Town Karachi     13000000    328\n",
       "Islamabad   I-8                     65000       300\n",
       "Karachi     Bahria Town Karachi     14500000    293\n",
       "                                               ... \n",
       "            Dhabeji                 25000000      1\n",
       "                                    20000         1\n",
       "            Delhi Colony            17500000      1\n",
       "                                    16000000      1\n",
       "Rawalpindi  Zeeshan Colony          12000000      1\n",
       "Name: count, Length: 34136, dtype: int64"
      ]
     },
     "execution_count": 105,
     "metadata": {},
     "output_type": "execute_result"
    }
   ],
   "source": [
    "df.groupby(\"city\")[[\"location\",\"price\"]].value_counts().sort_values(ascending=False)"
   ]
  },
  {
   "cell_type": "code",
   "execution_count": 92,
   "metadata": {},
   "outputs": [
    {
     "data": {
      "text/html": [
       "<div>\n",
       "<style scoped>\n",
       "    .dataframe tbody tr th:only-of-type {\n",
       "        vertical-align: middle;\n",
       "    }\n",
       "\n",
       "    .dataframe tbody tr th {\n",
       "        vertical-align: top;\n",
       "    }\n",
       "\n",
       "    .dataframe thead th {\n",
       "        text-align: right;\n",
       "    }\n",
       "</style>\n",
       "<table border=\"1\" class=\"dataframe\">\n",
       "  <thead>\n",
       "    <tr style=\"text-align: right;\">\n",
       "      <th></th>\n",
       "      <th>property_id</th>\n",
       "      <th>location_id</th>\n",
       "      <th>price</th>\n",
       "      <th>latitude</th>\n",
       "      <th>longitude</th>\n",
       "      <th>baths</th>\n",
       "      <th>bedrooms</th>\n",
       "      <th>Area Size</th>\n",
       "    </tr>\n",
       "  </thead>\n",
       "  <tbody>\n",
       "    <tr>\n",
       "      <th>count</th>\n",
       "      <td>1.684460e+05</td>\n",
       "      <td>168446.000000</td>\n",
       "      <td>1.684460e+05</td>\n",
       "      <td>168446.000000</td>\n",
       "      <td>168446.000000</td>\n",
       "      <td>168446.000000</td>\n",
       "      <td>168446.000000</td>\n",
       "      <td>168446.000000</td>\n",
       "    </tr>\n",
       "    <tr>\n",
       "      <th>mean</th>\n",
       "      <td>1.559626e+07</td>\n",
       "      <td>4375.936395</td>\n",
       "      <td>1.776576e+07</td>\n",
       "      <td>29.859519</td>\n",
       "      <td>71.239804</td>\n",
       "      <td>2.874227</td>\n",
       "      <td>3.179422</td>\n",
       "      <td>5.892188</td>\n",
       "    </tr>\n",
       "    <tr>\n",
       "      <th>std</th>\n",
       "      <td>2.251207e+06</td>\n",
       "      <td>3776.561581</td>\n",
       "      <td>3.531003e+07</td>\n",
       "      <td>3.807870</td>\n",
       "      <td>3.133042</td>\n",
       "      <td>2.463400</td>\n",
       "      <td>1.971401</td>\n",
       "      <td>5.778327</td>\n",
       "    </tr>\n",
       "    <tr>\n",
       "      <th>min</th>\n",
       "      <td>8.657500e+04</td>\n",
       "      <td>1.000000</td>\n",
       "      <td>0.000000e+00</td>\n",
       "      <td>11.052446</td>\n",
       "      <td>25.906027</td>\n",
       "      <td>0.000000</td>\n",
       "      <td>0.000000</td>\n",
       "      <td>0.000000</td>\n",
       "    </tr>\n",
       "    <tr>\n",
       "      <th>25%</th>\n",
       "      <td>1.488320e+07</td>\n",
       "      <td>1058.000000</td>\n",
       "      <td>1.750000e+05</td>\n",
       "      <td>24.948536</td>\n",
       "      <td>67.130363</td>\n",
       "      <td>0.000000</td>\n",
       "      <td>2.000000</td>\n",
       "      <td>3.000000</td>\n",
       "    </tr>\n",
       "    <tr>\n",
       "      <th>50%</th>\n",
       "      <td>1.665851e+07</td>\n",
       "      <td>3286.000000</td>\n",
       "      <td>8.500000e+06</td>\n",
       "      <td>31.459784</td>\n",
       "      <td>73.056182</td>\n",
       "      <td>3.000000</td>\n",
       "      <td>3.000000</td>\n",
       "      <td>5.000000</td>\n",
       "    </tr>\n",
       "    <tr>\n",
       "      <th>75%</th>\n",
       "      <td>1.708662e+07</td>\n",
       "      <td>7220.000000</td>\n",
       "      <td>1.950000e+07</td>\n",
       "      <td>33.560887</td>\n",
       "      <td>73.259870</td>\n",
       "      <td>4.000000</td>\n",
       "      <td>4.000000</td>\n",
       "      <td>8.000000</td>\n",
       "    </tr>\n",
       "    <tr>\n",
       "      <th>max</th>\n",
       "      <td>1.735772e+07</td>\n",
       "      <td>14220.000000</td>\n",
       "      <td>2.000000e+09</td>\n",
       "      <td>73.184088</td>\n",
       "      <td>80.161430</td>\n",
       "      <td>403.000000</td>\n",
       "      <td>68.000000</td>\n",
       "      <td>800.000000</td>\n",
       "    </tr>\n",
       "  </tbody>\n",
       "</table>\n",
       "</div>"
      ],
      "text/plain": [
       "        property_id    location_id         price       latitude  \\\n",
       "count  1.684460e+05  168446.000000  1.684460e+05  168446.000000   \n",
       "mean   1.559626e+07    4375.936395  1.776576e+07      29.859519   \n",
       "std    2.251207e+06    3776.561581  3.531003e+07       3.807870   \n",
       "min    8.657500e+04       1.000000  0.000000e+00      11.052446   \n",
       "25%    1.488320e+07    1058.000000  1.750000e+05      24.948536   \n",
       "50%    1.665851e+07    3286.000000  8.500000e+06      31.459784   \n",
       "75%    1.708662e+07    7220.000000  1.950000e+07      33.560887   \n",
       "max    1.735772e+07   14220.000000  2.000000e+09      73.184088   \n",
       "\n",
       "           longitude          baths       bedrooms      Area Size  \n",
       "count  168446.000000  168446.000000  168446.000000  168446.000000  \n",
       "mean       71.239804       2.874227       3.179422       5.892188  \n",
       "std         3.133042       2.463400       1.971401       5.778327  \n",
       "min        25.906027       0.000000       0.000000       0.000000  \n",
       "25%        67.130363       0.000000       2.000000       3.000000  \n",
       "50%        73.056182       3.000000       3.000000       5.000000  \n",
       "75%        73.259870       4.000000       4.000000       8.000000  \n",
       "max        80.161430     403.000000      68.000000     800.000000  "
      ]
     },
     "execution_count": 92,
     "metadata": {},
     "output_type": "execute_result"
    }
   ],
   "source": [
    "df.describe()"
   ]
  },
  {
   "cell_type": "markdown",
   "metadata": {},
   "source": [
    "---\n",
    "<p><span style=\"color: orange; font-size: 350%; font-weight: bold;\">Data Cleaning & Preprocessing</span></p>"
   ]
  },
  {
   "cell_type": "code",
   "execution_count": 93,
   "metadata": {},
   "outputs": [
    {
     "data": {
      "text/plain": [
       "property_id          0\n",
       "location_id          0\n",
       "page_url             0\n",
       "property_type        0\n",
       "price                0\n",
       "location             0\n",
       "city                 0\n",
       "province_name        0\n",
       "latitude             0\n",
       "longitude            0\n",
       "baths                0\n",
       "area                 0\n",
       "purpose              0\n",
       "bedrooms             0\n",
       "date_added           0\n",
       "agency           44071\n",
       "agent            44072\n",
       "Area Type            0\n",
       "Area Size            0\n",
       "Area Category        0\n",
       "dtype: int64"
      ]
     },
     "execution_count": 93,
     "metadata": {},
     "output_type": "execute_result"
    }
   ],
   "source": [
    "df.isnull().sum()"
   ]
  },
  {
   "cell_type": "code",
   "execution_count": 94,
   "metadata": {},
   "outputs": [
    {
     "data": {
      "image/png": "[encoded data removed]",
      "text/plain": [
       "<Figure size 1000x600 with 2 Axes>"
      ]
     },
     "metadata": {},
     "output_type": "display_data"
    }
   ],
   "source": [
    "plt.figure(figsize=(10,6))\n",
    "sns.heatmap(df.isnull(),cmap='Reds')\n",
    "plt.title('Missing Values in DataFrame')\n",
    "plt.xlabel('Columns')\n",
    "plt.ylabel('Rows')\n",
    "plt.show()"
   ]
  },
  {
   "cell_type": "code",
   "execution_count": null,
   "metadata": {},
   "outputs": [],
   "source": []
  }
 ],
 "metadata": {
  "kernelspec": {
   "display_name": "MLD",
   "language": "python",
   "name": "python3"
  },
  "language_info": {
   "codemirror_mode": {
    "name": "ipython",
    "version": 3
   },
   "file_extension": ".py",
   "mimetype": "text/x-python",
   "name": "python",
   "nbconvert_exporter": "python",
   "pygments_lexer": "ipython3",
   "version": "3.11.9"
  }
 },
 "nbformat": 4,
 "nbformat_minor": 2
}
