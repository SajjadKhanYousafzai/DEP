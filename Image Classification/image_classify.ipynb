{
 "cells": [
  {
   "cell_type": "markdown",
   "metadata": {},
   "source": [
    "<img>\n",
    "<html>\n",
    "  <head>\n",
    "  </head>\n",
    "\n",
    "  <body>\n",
    "    <img src=\"image/ai.jpg\">\n",
    "  </body>\n",
    "</html>"
   ]
  },
  {
   "cell_type": "markdown",
   "metadata": {},
   "source": []
  }
 ],
 "metadata": {
  "language_info": {
   "name": "python"
  }
 },
 "nbformat": 4,
 "nbformat_minor": 2
}
